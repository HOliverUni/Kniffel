{
 "cells": [
  {
   "cell_type": "code",
   "execution_count": 911,
   "metadata": {},
   "outputs": [],
   "source": [
    "import random\n"
   ]
  },
  {
   "cell_type": "code",
   "execution_count": 912,
   "metadata": {},
   "outputs": [
    {
     "name": "stdout",
     "output_type": "stream",
     "text": [
      "[1, 3, 5, 5, 5]\n"
     ]
    }
   ],
   "source": [
    "wuerfel = []\n",
    "wuerfel.append([random.randint(1, 6) for i in range(0, 5)])\n",
    "wuerfel = wuerfel[0]\n",
    "print(sorted(wuerfel))\n"
   ]
  },
  {
   "cell_type": "code",
   "execution_count": 913,
   "metadata": {},
   "outputs": [
    {
     "name": "stdout",
     "output_type": "stream",
     "text": [
      "[1, 3, 5, 5, 5]\n"
     ]
    }
   ],
   "source": [
    "classCheck = [0, 0, 0, 0, 0, 0, 0, 0]\n",
    "classes = (\n",
    "    \"P\",  # Augenzahl (hier Paare um aus 3er Pasch und Paar ein Full House zu finden)\n",
    "    \"3P\",  # 3er Pasch\n",
    "    \"4P\",  # 4er Pasch\n",
    "    \"F\",  # Full House\n",
    "    \"KS\",  # Kleine Straße\n",
    "    \"GS\",  # Große Straße\n",
    "    \"K\",  # Kniffel\n",
    "    \"C\",  # Chance\n",
    ")\n",
    "classDict = dict(zip(classes, classCheck))\n",
    "print(sorted(wuerfel))\n"
   ]
  },
  {
   "cell_type": "code",
   "execution_count": 914,
   "metadata": {},
   "outputs": [
    {
     "name": "stdout",
     "output_type": "stream",
     "text": [
      " 3er Pasch mit Zahl: 5  \n"
     ]
    }
   ],
   "source": [
    "wuerfel.sort()\n",
    "paare = []\n",
    "for l in range(1, 7):\n",
    "\n",
    "    for i in range(0, 5):  # 1. Stelle i\n",
    "\n",
    "        for j in range(0, 5):  # 2. Stelle j\n",
    "            if j != i:\n",
    "\n",
    "                for k in range(0, 5):  # 3. Stelle k\n",
    "                    if k != j and k != i:\n",
    "\n",
    "                        # 3er Pasch ----------------------------------\n",
    "                        if (\n",
    "                            wuerfel[i] == wuerfel[j] == wuerfel[k]\n",
    "                            and classDict[\"3P\"] == 0\n",
    "                        ):\n",
    "                            # Speichert die 3er Paschzahl in classCheck ab\n",
    "                            classCheck[1] = wuerfel[i]\n",
    "                            # Setzt 3er Pasch von 0 auf 1 (False -> True)\n",
    "                            classDict[\"3P\"] = 1\n",
    "\n",
    "                        # Paare für Fullhouse schauen ----------------------\n",
    "                        if (\n",
    "                            wuerfel[i] == wuerfel[j]  # Beide Würfel vergleichen\n",
    "                            # Schauen ob bereits ein Eintrag in classDict gemacht wurde <2 weil zwei Paare möglich sind\n",
    "                            and classDict[\"P\"] < 2\n",
    "                            # Schaut ob erstes gefundenes Paar ungleich dem Würfel ist\n",
    "                            and classCheck[0] != wuerfel[i]\n",
    "                            # Schaut ob aktueller Würfel nicht die Zahl des Pasch ist\n",
    "                            and classCheck[1] != wuerfel[i]\n",
    "                            # Erst ab l>2 anfangen nach Paaren zu suchen, weil sonst Paare vor Pasche gefunden werden und doppelt vorkommen\n",
    "                            and l > 1\n",
    "                        ):\n",
    "                            # Speichert erstes paar in classCheck ab\n",
    "                            classCheck[0] = wuerfel[i]\n",
    "                            # Speichert Paare in Liste, damit am Ende alle Paare in classCheck eingefügt werden können\n",
    "                            paare.append(wuerfel[i])\n",
    "                            # classDict += weil es hierbei zwei mögliche Paare gibt und nicht nur eins wie bei 3er oder 4er Pasch\n",
    "                            classDict[\"P\"] += 1\n",
    "\n",
    "                        for m in range(0, 5):  # 4. Stelle m\n",
    "\n",
    "                            if m != j and m != i and m != k:\n",
    "                                # 4er Pasch ----------------------------------\n",
    "                                if (\n",
    "                                    wuerfel[i] == wuerfel[j] == wuerfel[k] == wuerfel[m]\n",
    "                                    and classDict[\"4P\"] == 0\n",
    "                                ):\n",
    "                                    # Speichert die 4er Paschzahl in classCheck ab\n",
    "                                    classCheck[1] = wuerfel[i]\n",
    "                                    # Setzt 4er Pasch von 0 auf 1 (False -> True)\n",
    "                                    classDict[\"4P\"] = 1\n",
    "                                    print(f\"4er Pasch mit Zahl: {wuerfel[i]}\")\n",
    "                                # Kleine Straße ------------------------------\n",
    "                                if (\n",
    "                                    [wuerfel[i], wuerfel[j], wuerfel[k], wuerfel[m]]\n",
    "                                    == [1, 2, 3, 4]\n",
    "                                    or [wuerfel[i], wuerfel[j], wuerfel[k], wuerfel[m]]\n",
    "                                    == [2, 3, 4, 5]\n",
    "                                    or [wuerfel[i], wuerfel[j], wuerfel[k], wuerfel[m]]\n",
    "                                    == [3, 4, 5, 6]\n",
    "                                    and classDict[\"KS\"] != 1\n",
    "                                ):\n",
    "                                    classDict[\"KS\"] = 1\n",
    "                                    \n",
    "                                for n in range(0, 5):   # 5. Stelle n\n",
    "                                    \n",
    "                                    if n != j and n != i and n != k and n!=m:\n",
    "                                        pass\n",
    "\n",
    "# Nach Full House schauen indem Paar und Pasch im Klassen Dictionary als Wahr (also 1) angegeben sind\n",
    "if classDict[\"3P\"] == 1 and classDict[\"P\"] >= 1:\n",
    "    print(\"FULL HOUSE\")\n",
    "    classDict[\"F\"] = 1\n",
    "classCheck[0] = paare\n",
    "print(\n",
    "    f\"Paar/e: {classCheck[0]}, \" if classDict[\"P\"] > 0 else \"\",\n",
    "    f\"3er Pasch mit Zahl: {classCheck[1]}\" if classDict[\"3P\"] == 1 else \"\",\n",
    "    f\"4er Pasch mit Zahl: {classCheck[2]}\" if classDict[\"4P\"] == 1 else \"\",\n",
    "    f\"Kleine Straße\" if classDict[\"KS\"] == 1 else \"\",\n",
    ")\n",
    "\n"
   ]
  },
  {
   "cell_type": "code",
   "execution_count": 915,
   "metadata": {},
   "outputs": [],
   "source": [
    "if (\n",
    "    [wuerfel[0], wuerfel[1], wuerfel[2], wuerfel[3]] == [1, 2, 3, 4]\n",
    "    or [wuerfel[0], wuerfel[1], wuerfel[2], wuerfel[3]] == [2, 3, 4, 5]\n",
    "    or [wuerfel[0], wuerfel[1], wuerfel[2], wuerfel[3]] == [3, 4, 5, 6]\n",
    "):\n",
    "    print(\"kleine Straße\")\n"
   ]
  }
 ],
 "metadata": {
  "kernelspec": {
   "display_name": "Python 3.8.10 ('Python38')",
   "language": "python",
   "name": "python3"
  },
  "language_info": {
   "codemirror_mode": {
    "name": "ipython",
    "version": 3
   },
   "file_extension": ".py",
   "mimetype": "text/x-python",
   "name": "python",
   "nbconvert_exporter": "python",
   "pygments_lexer": "ipython3",
   "version": "3.8.10"
  },
  "orig_nbformat": 4,
  "vscode": {
   "interpreter": {
    "hash": "783241db2350dd6444c8e8a9496166aea9b45060d3e8dbecf5dff23b75f2356b"
   }
  }
 },
 "nbformat": 4,
 "nbformat_minor": 2
}
