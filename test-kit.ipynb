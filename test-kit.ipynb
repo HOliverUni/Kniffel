{
 "cells": [],
 "metadata": {
  "kernelspec": {
   "display_name": "Python 3.8.10 ('Python38')",
   "language": "python",
   "name": "python3"
  },
  "language_info": {
   "codemirror_mode": {
    "name": "ipython",
    "version": 3
   },
   "file_extension": ".py",
   "mimetype": "text/x-python",
   "name": "python",
   "nbconvert_exporter": "python",
   "pygments_lexer": "ipython3",
   "version": "3.8.10"
  },
  "orig_nbformat": 4,
  "vscode": {
   "interpreter": {
    "hash": "783241db2350dd6444c8e8a9496166aea9b45060d3e8dbecf5dff23b75f2356b"
   }
  }
 },
 "nbformat": 4,
 "nbformat_minor": 2
}
