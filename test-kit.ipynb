{
 "cells": [
  {
   "cell_type": "code",
   "execution_count": 552,
   "metadata": {},
   "outputs": [],
   "source": [
    "import random"
   ]
  },
  {
   "cell_type": "code",
   "execution_count": 553,
   "metadata": {},
   "outputs": [
    {
     "name": "stdout",
     "output_type": "stream",
     "text": [
      "[1, 2, 2, 3, 5]\n"
     ]
    }
   ],
   "source": [
    "wuerfel = []\n",
    "wuerfel.append([random.randint(1, 6) for i in range(0, 5)])\n",
    "wuerfel=wuerfel[0]\n",
    "print(sorted(wuerfel))"
   ]
  },
  {
   "cell_type": "code",
   "execution_count": 554,
   "metadata": {},
   "outputs": [
    {
     "name": "stdout",
     "output_type": "stream",
     "text": [
      "[1, 2, 2, 3, 5]\n"
     ]
    }
   ],
   "source": [
    "classCheck = [0, 0, 0, 0, 0, 0, 0, 0]\n",
    "classes = (\n",
    "    \"P\",  # Augenzahl\n",
    "    \"3P\",  # 3er Pasch\n",
    "    \"4P\",  # 4er Pasch\n",
    "    \"F\",  # Full House\n",
    "    \"KS\",  # Kleine Straße\n",
    "    \"GS\",  # Große Straße\n",
    "    \"K\",  # Kniffel\n",
    "    \"C\",  # Chance\n",
    ")\n",
    "classDict = dict(zip(classes, classCheck))\n",
    "print(sorted(wuerfel))"
   ]
  },
  {
   "cell_type": "code",
   "execution_count": 555,
   "metadata": {},
   "outputs": [
    {
     "name": "stdout",
     "output_type": "stream",
     "text": [
      "Paar mit Zahl: 2\n",
      "Paare: [2]\n"
     ]
    }
   ],
   "source": [
    "wuerfel.sort()\n",
    "paare=[]\n",
    "for l in range(1, 7):\n",
    "\n",
    "    for i in range(0, 5):  # 1. Stelle i\n",
    "\n",
    "        for j in range(0, 5):  # 2. Stelle j\n",
    "            if j != i:\n",
    "\n",
    "                for k in range(0, 5):  # 3. Stelle k\n",
    "                    if k != j and k != i:\n",
    "\n",
    "                        # 3er Pasch\n",
    "                        if (\n",
    "                            wuerfel[i] == wuerfel[j] == wuerfel[k]\n",
    "                            and classDict[\"3P\"] == 0\n",
    "                        ):\n",
    "                            classCheck[1] = wuerfel[i]\n",
    "                            classDict[\"3P\"] = 1\n",
    "                            print(f\"3er Pasch mit Zahl: {wuerfel[i]}\")\n",
    "\n",
    "                        # Paare für Fullhouse schauen\n",
    "                        if (\n",
    "                            wuerfel[i] == wuerfel[j]\n",
    "                            and classDict[\"P\"] < 2\n",
    "                            and classCheck[0] != wuerfel[i]\n",
    "                            and classCheck[1] != wuerfel[i]\n",
    "                            and l > 1\n",
    "                        ):\n",
    "                            classCheck[0] = wuerfel[i]\n",
    "                            paare.append(wuerfel[i])\n",
    "                            classDict[\"P\"] += 1\n",
    "                            print(f\"Paar mit Zahl: {wuerfel[i]}\")\n",
    "\n",
    "                        for m in range(0, 5):  # 4. Stelle m\n",
    "\n",
    "                            if m != j and m != i and m != k:\n",
    "                                pass\n",
    "                        #         for n in range(0, 5):   # 5. Stelle n\n",
    "                        #             if n != j and n != i and n != k and n!=m:\n",
    "                        #                 pass\n",
    "\n",
    "print(\"Paare:\",paare)"
   ]
  }
 ],
 "metadata": {
  "kernelspec": {
   "display_name": "Python 3.8.10 ('Python38')",
   "language": "python",
   "name": "python3"
  },
  "language_info": {
   "codemirror_mode": {
    "name": "ipython",
    "version": 3
   },
   "file_extension": ".py",
   "mimetype": "text/x-python",
   "name": "python",
   "nbconvert_exporter": "python",
   "pygments_lexer": "ipython3",
   "version": "3.8.10"
  },
  "orig_nbformat": 4,
  "vscode": {
   "interpreter": {
    "hash": "783241db2350dd6444c8e8a9496166aea9b45060d3e8dbecf5dff23b75f2356b"
   }
  }
 },
 "nbformat": 4,
 "nbformat_minor": 2
}
